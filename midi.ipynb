{
 "cells": [
  {
   "cell_type": "code",
   "execution_count": 1,
   "metadata": {},
   "outputs": [],
   "source": [
    "import numpy as np\n",
    "import mido"
   ]
  },
  {
   "cell_type": "code",
   "execution_count": 2,
   "metadata": {},
   "outputs": [],
   "source": [
    "data = np.load(\"data.npy\")"
   ]
  },
  {
   "cell_type": "code",
   "execution_count": 210,
   "metadata": {},
   "outputs": [],
   "source": [
    "def convert_note(note):\n",
    "    notes = \"C,Db,D,Eb,E,F,Gb,G,Ab,A,Bb,B\".split(\",\")\n",
    "    numbers = list(range(60,72))  \n",
    "    try:\n",
    "        octave = int(note[-1])\n",
    "        note_idx = notes.index(note[:-1])\n",
    "    except:\n",
    "        octave = 4\n",
    "        note_idx = notes.index(note)\n",
    "    offset = (octave-4)*12    \n",
    "    return numbers[note_idx] + offset\n",
    "\n",
    "def map_note(value, root=60):\n",
    "    \"\"\"\n",
    "    value: a numeric value ranged from 0 to 1\n",
    "    root: the root note used as the reference\n",
    "    \"\"\"\n",
    "    disct = (value//0.1).astype(np.int32)\n",
    "    major_scale = [2,2,1,2,2,2,1]    \n",
    "    scale = np.cumsum([*(major_scale*2)])\n",
    "    \n",
    "    return scale[disct] + root"
   ]
  },
  {
   "cell_type": "code",
   "execution_count": 182,
   "metadata": {},
   "outputs": [],
   "source": [
    "def map_chord(value, ref):\n",
    "    value0 = (value-np.mean(value))/np.std(value)\n",
    "    value = np.maximum(np.minimum(value0, 3), -3) + 3\n",
    "    disct = value.astype(np.int32)\n",
    "    intervals = np.array([5, 7, 4, 4, 7, 7, 5])\n",
    "    \n",
    "    return ref-intervals[disct]\n",
    "\n",
    "def map_duration(value):\n",
    "    value0 = (value-np.mean(value))/np.std(value)\n",
    "    value = np.maximum(np.minimum(value0, 3), -3) + 3\n",
    "    duration = np.array(\n",
    "        [0.5]*3 + [1]*2 + [1.5]*2\n",
    "    )\n",
    "    disct = value.astype(np.int32)\n",
    "    return duration[disct], disct"
   ]
  },
  {
   "cell_type": "code",
   "execution_count": 183,
   "metadata": {},
   "outputs": [],
   "source": [
    "def map_track1_data(melody_data, chord_data, duration_data, root):\n",
    "    notes = map_note(melody_data, root)\n",
    "    chord = map_chord(chord_data, notes)\n",
    "    duration, value0 = map_duration(duration_data)\n",
    "    track = [notes, chord, duration]\n",
    "    return track"
   ]
  },
  {
   "cell_type": "code",
   "execution_count": 184,
   "metadata": {},
   "outputs": [],
   "source": [
    "def map_track2_data(melody_data, chord_data, duration_data, ref_notes, base_offset=-12):\n",
    "    notes = map_chord(melody_data, ref_notes+base_offset)\n",
    "    chord = map_chord(chord_data, notes)\n",
    "    duration, value0 = map_duration(duration_data)\n",
    "    track = [notes, chord, duration]\n",
    "    return track"
   ]
  },
  {
   "cell_type": "markdown",
   "metadata": {},
   "source": [
    "## playing"
   ]
  },
  {
   "cell_type": "code",
   "execution_count": 185,
   "metadata": {},
   "outputs": [],
   "source": [
    "import time"
   ]
  },
  {
   "cell_type": "code",
   "execution_count": 186,
   "metadata": {},
   "outputs": [],
   "source": [
    "def make_piano_track(track_data, ticks_per_beat, bpm=120, velocity=80, program=1):    \n",
    "    track = mido.MidiTrack()\n",
    "    track.append(mido.Message(\"program_change\", program=program))\n",
    "    for note1, note2, beat in zip(track_data[0], track_data[1], track_data[2]):\n",
    "        ticks = int(mido.second2tick((60/bpm)*beat, ticks_per_beat, mido.bpm2tempo(120)))\n",
    "        msg11 = mido.Message('note_on', note=note1, velocity=velocity, time=0)\n",
    "        msg12 = mido.Message('note_on', note=note2, velocity=velocity, time=0)\n",
    "        msg21 = mido.Message('note_off', note=note1, velocity=velocity, time=ticks)\n",
    "        msg22 = mido.Message('note_off', note=note2, velocity=velocity, time=0)            \n",
    "        track.append(msg11)        \n",
    "        track.append(msg12)\n",
    "        track.append(msg21)        \n",
    "        track.append(msg22)        \n",
    "    return track"
   ]
  },
  {
   "cell_type": "code",
   "execution_count": 187,
   "metadata": {},
   "outputs": [],
   "source": [
    "def make_string_track(track_data, ticks_per_beat, bpm=120, velocity=80, program=1):    \n",
    "    track = mido.MidiTrack()\n",
    "    track.append(mido.Message(\"program_change\", program=program, channel=2))\n",
    "    mask_gate = 0\n",
    "    acc_ticks = 0\n",
    "    playing_note = 0\n",
    "    for note1, beat in zip(track_data[0], track_data[2]):\n",
    "        ticks = int(mido.second2tick((60/bpm)*beat, ticks_per_beat, mido.bpm2tempo(120)))\n",
    "        acc_ticks += ticks        \n",
    "        if mask_gate == 0:\n",
    "            msg11 = mido.Message('note_on', note=note1, velocity=velocity, time=0, channel=2)\n",
    "            track.append(msg11)\n",
    "            playing_note = note1 \n",
    "            mask_gate += 1\n",
    "        elif mask_gate == 2:\n",
    "            msg21 = mido.Message('note_off', note=playing_note, velocity=velocity, time=acc_ticks, channel=2)\n",
    "            track.append(msg21)\n",
    "            mask_gate = 0\n",
    "            acc_ticks = 0        \n",
    "        else:\n",
    "            mask_gate += 1\n",
    "    track.append(mido.Message('note_off', note=playing_note, velocity=velocity, time=acc_ticks, channel=2))\n",
    "    return track"
   ]
  },
  {
   "cell_type": "code",
   "execution_count": 188,
   "metadata": {},
   "outputs": [],
   "source": [
    "track1 = map_track1_data(data[0,:], data[1,:], data[2,:], root=67)\n",
    "track2 = map_track2_data(data[3,:], data[4,:], data[5,:], ref_notes=track1[0])"
   ]
  },
  {
   "cell_type": "code",
   "execution_count": 189,
   "metadata": {},
   "outputs": [],
   "source": [
    "def make_clip(length, track):\n",
    "    return [x[:length] for x in track]\n",
    "value_counts = 112\n",
    "track1 = make_clip(value_counts, track1)\n",
    "track2 = make_clip(value_counts, track2)"
   ]
  },
  {
   "cell_type": "code",
   "execution_count": 190,
   "metadata": {},
   "outputs": [],
   "source": [
    "mid = mido.MidiFile()\n",
    "bpm = 112\n",
    "tpb = 64\n",
    "mid.ticks_per_beat=tpb\n",
    "mid.tracks.append(make_piano_track(track1, ticks_per_beat=tpb, bpm=bpm, program=1))\n",
    "mid.tracks.append(make_piano_track(track2, ticks_per_beat=tpb, bpm=bpm, velocity=64, program=1))\n",
    "mid.tracks.append(make_string_track(track2, ticks_per_beat=tpb, bpm=bpm, velocity=64, program=9))\n",
    "mid.save(\"test.mid\")"
   ]
  },
  {
   "cell_type": "code",
   "execution_count": 191,
   "metadata": {},
   "outputs": [],
   "source": [
    "with mido.open_output() as port:\n",
    "    for msg in mido.MidiFile('test.mid').play():\n",
    "        port.send(msg)"
   ]
  },
  {
   "cell_type": "code",
   "execution_count": 53,
   "metadata": {},
   "outputs": [],
   "source": [
    "port.send(mido.Message(\"stop\"))"
   ]
  },
  {
   "cell_type": "code",
   "execution_count": 33,
   "metadata": {},
   "outputs": [
    {
     "data": {
      "text/plain": [
       "768"
      ]
     },
     "execution_count": 33,
     "metadata": {},
     "output_type": "execute_result"
    }
   ],
   "source": [
    "len(track2[2])"
   ]
  },
  {
   "cell_type": "code",
   "execution_count": 41,
   "metadata": {},
   "outputs": [
    {
     "data": {
      "text/plain": [
       "[128, 96, 128, 128, 96, 128, 96]"
      ]
     },
     "execution_count": 41,
     "metadata": {},
     "output_type": "execute_result"
    }
   ],
   "source": [
    "[x.time for x in mid.tracks[2] if x.type==\"note_off\"]"
   ]
  },
  {
   "cell_type": "code",
   "execution_count": 40,
   "metadata": {},
   "outputs": [
    {
     "data": {
      "text/plain": [
       "'note_on'"
      ]
     },
     "execution_count": 40,
     "metadata": {},
     "output_type": "execute_result"
    }
   ],
   "source": [
    "mid.tracks[2][1].type"
   ]
  },
  {
   "cell_type": "code",
   "execution_count": 64,
   "metadata": {},
   "outputs": [
    {
     "data": {
      "text/plain": [
       "[<message program_change channel=2 program=44 time=0>,\n",
       " <message note_on channel=2 note=53 velocity=80 time=0>,\n",
       " <message note_off channel=2 note=53 velocity=80 time=128>,\n",
       " <message note_on channel=2 note=67 velocity=80 time=0>,\n",
       " <message note_off channel=2 note=67 velocity=80 time=96>,\n",
       " <message note_on channel=2 note=60 velocity=80 time=0>,\n",
       " <message note_off channel=2 note=60 velocity=80 time=128>,\n",
       " <message note_on channel=2 note=65 velocity=80 time=0>,\n",
       " <message note_off channel=2 note=65 velocity=80 time=128>,\n",
       " <message note_on channel=2 note=48 velocity=80 time=0>,\n",
       " <message note_off channel=2 note=48 velocity=80 time=96>,\n",
       " <message note_on channel=2 note=46 velocity=80 time=0>,\n",
       " <message note_off channel=2 note=46 velocity=80 time=128>,\n",
       " <message note_on channel=2 note=46 velocity=80 time=0>,\n",
       " <message note_off channel=2 note=46 velocity=80 time=96>]"
      ]
     },
     "execution_count": 64,
     "metadata": {},
     "output_type": "execute_result"
    }
   ],
   "source": [
    "list(mid.tracks[2])"
   ]
  },
  {
   "cell_type": "code",
   "execution_count": null,
   "metadata": {},
   "outputs": [],
   "source": []
  }
 ],
 "metadata": {
  "kernelspec": {
   "display_name": "Python 3",
   "language": "python",
   "name": "python3"
  },
  "language_info": {
   "codemirror_mode": {
    "name": "ipython",
    "version": 3
   },
   "file_extension": ".py",
   "mimetype": "text/x-python",
   "name": "python",
   "nbconvert_exporter": "python",
   "pygments_lexer": "ipython3",
   "version": "3.8.2"
  }
 },
 "nbformat": 4,
 "nbformat_minor": 4
}

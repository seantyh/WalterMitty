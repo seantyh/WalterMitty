{
 "cells": [
  {
   "cell_type": "code",
   "execution_count": 1,
   "metadata": {},
   "outputs": [],
   "source": [
    "from make_midi import *"
   ]
  },
  {
   "cell_type": "code",
   "execution_count": 2,
   "metadata": {},
   "outputs": [],
   "source": [
    "import mido"
   ]
  },
  {
   "cell_type": "code",
   "execution_count": 3,
   "metadata": {},
   "outputs": [
    {
     "name": "stdout",
     "output_type": "stream",
     "text": [
      "Loading Bert...\n",
      "Done\n"
     ]
    }
   ],
   "source": [
    "init_model()"
   ]
  },
  {
   "cell_type": "code",
   "execution_count": 4,
   "metadata": {},
   "outputs": [
    {
     "name": "stdout",
     "output_type": "stream",
     "text": [
      "Create tune of 白日AI唱夢 to seq_zh.G.major.mid\n",
      "Create tune of 白日AI唱夢 to seq_zh.G.natural.mid\n",
      "Create tune of LOPE-Dream-pop to seq_en.E.major.mid\n",
      "Create tune of LOPE-Dream-pop to seq_en.E.natural.mid\n"
     ]
    }
   ],
   "source": [
    "make_tune(\"白日AI唱夢\", scale=\"G\", scale_type=\"major\", outname=\"seq_zh\")\n",
    "make_tune(\"白日AI唱夢\", scale=\"G\", scale_type=\"natural\", outname=\"seq_zh\")\n",
    "make_tune(\"LOPE-Dream-pop\", scale=\"E\", scale_type=\"major\", outname=\"seq_en\")\n",
    "make_tune(\"LOPE-Dream-pop\", scale=\"E\", scale_type=\"natural\", outname=\"seq_en\")"
   ]
  },
  {
   "cell_type": "code",
   "execution_count": 11,
   "metadata": {},
   "outputs": [
    {
     "name": "stdout",
     "output_type": "stream",
     "text": [
      "Create tune of 語言學是以科學方式邏輯性歸納分析語言資訊，在各個學門中都不乏對於訊息符碼的研究與反思。 to intro_zh.G.major.mid\n",
      "Create tune of 語言學是以科學方式邏輯性歸納分析語言資訊，在各個學門中都不乏對於訊息符碼的研究與反思。 to intro_zh.E.major.mid\n",
      "Create tune of 語言學是以科學方式邏輯性歸納分析語言資訊，在各個學門中都不乏對於訊息符碼的研究與反思。 to intro_zh.A.major.mid\n"
     ]
    }
   ],
   "source": [
    "parag = \"語言學是以科學方式邏輯性歸納分析語言資訊，在各個學門中都不乏對於訊息符碼的研究與反思。\"\n",
    "make_tune(parag, scale=\"G\", scale_type=\"major\", outname=\"intro_zh\")\n",
    "make_tune(parag, scale=\"E\", scale_type=\"major\", outname=\"intro_zh\")\n",
    "make_tune(parag, scale=\"A\", scale_type=\"major\", outname=\"intro_zh\")"
   ]
  },
  {
   "cell_type": "code",
   "execution_count": 10,
   "metadata": {},
   "outputs": [
    {
     "name": "stdout",
     "output_type": "stream",
     "text": [
      "Create tune of 夢，是人類意識的反射。AI，是人類運思的模擬。反射與模擬，到底佔了多少的真實？夢、AI與真實，因彼此對比而存在。如果沒有夢，那是否還有真實？如果ＡＩ會作夢，那是否就成了真實？透過AI．．．讓我們在真實的世界，做一場擲地有聲的白日夢．．． to dream_zh.Eb.natural.mid\n",
      "Create tune of 夢，是人類意識的反射。AI，是人類運思的模擬。反射與模擬，到底佔了多少的真實？夢、AI與真實，因彼此對比而存在。如果沒有夢，那是否還有真實？如果ＡＩ會作夢，那是否就成了真實？透過AI．．．讓我們在真實的世界，做一場擲地有聲的白日夢．．． to dream_zh.F.major.mid\n"
     ]
    }
   ],
   "source": [
    "dream = \"夢，是人類意識的反射。AI，是人類運思的模擬。反射與模擬，到底佔了多少的真實？夢、AI與真實，因彼此對比而存在。如果沒有夢，那是否還有真實？如果ＡＩ會作夢，那是否就成了真實？透過AI．．．讓我們在真實的世界，做一場擲地有聲的白日夢．．．\"\n",
    "make_tune(dream, scale=\"Eb\", scale_type=\"natural\", outname=\"dream_zh\")\n",
    "make_tune(dream, scale=\"F\", scale_type=\"major\", outname=\"dream_zh\")"
   ]
  },
  {
   "cell_type": "code",
   "execution_count": null,
   "metadata": {},
   "outputs": [],
   "source": []
  }
 ],
 "metadata": {
  "kernelspec": {
   "display_name": "Python 3",
   "language": "python",
   "name": "python3"
  },
  "language_info": {
   "codemirror_mode": {
    "name": "ipython",
    "version": 3
   },
   "file_extension": ".py",
   "mimetype": "text/x-python",
   "name": "python",
   "nbconvert_exporter": "python",
   "pygments_lexer": "ipython3",
   "version": "3.8.2"
  }
 },
 "nbformat": 4,
 "nbformat_minor": 4
}
